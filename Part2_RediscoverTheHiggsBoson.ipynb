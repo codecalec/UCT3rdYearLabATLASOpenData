{
 "cells": [
  {
   "cell_type": "markdown",
   "metadata": {},
   "source": [
    "# Part 2: Rediscover the Higgs boson"
   ]
  },
  {
   "cell_type": "code",
   "execution_count": 2,
   "metadata": {},
   "outputs": [],
   "source": [
    "import uproot\n",
    "import uproot_methods.classes.TLorentzVector as LVepm\n",
    "import numpy as np\n",
    "import pandas as pd\n",
    "import matplotlib.pyplot as plt\n",
    "import scipy.stats"
   ]
  },
  {
   "cell_type": "markdown",
   "metadata": {},
   "source": [
    "# Step 1: Access a the data file and convert into a 'pandas dataframe'.\n"
   ]
  },
  {
   "cell_type": "code",
   "execution_count": 3,
   "metadata": {},
   "outputs": [],
   "source": [
    "eventsData = uproot.open(\"data_Skim_GamGam.root\")[\"mini\"]\n",
    "df = eventsData.pandas.df([\"photon_pt\", \"photon_eta\", \"photon_phi\", \"photon_E\",  \"diphoton_mass\"])"
   ]
  },
  {
   "cell_type": "markdown",
   "metadata": {},
   "source": [
    "# Step 2. Apply a series of event selections\n",
    "    - only select events containing two photons with specific $p_T$ and $\\eta$"
   ]
  },
  {
   "cell_type": "code",
   "execution_count": 8,
   "metadata": {},
   "outputs": [
    {
     "name": "stdout",
     "output_type": "stream",
     "text": [
      "Number of selected events = 76382\n"
     ]
    },
    {
     "data": {
      "text/html": [
       "<div>\n",
       "<style scoped>\n",
       "    .dataframe tbody tr th:only-of-type {\n",
       "        vertical-align: middle;\n",
       "    }\n",
       "\n",
       "    .dataframe tbody tr th {\n",
       "        vertical-align: top;\n",
       "    }\n",
       "\n",
       "    .dataframe thead th {\n",
       "        text-align: right;\n",
       "    }\n",
       "</style>\n",
       "<table border=\"1\" class=\"dataframe\">\n",
       "  <thead>\n",
       "    <tr style=\"text-align: right;\">\n",
       "      <th></th>\n",
       "      <th>photon_pt[0]</th>\n",
       "      <th>photon_pt[1]</th>\n",
       "      <th>photon_eta[0]</th>\n",
       "      <th>photon_eta[1]</th>\n",
       "      <th>photon_phi[0]</th>\n",
       "      <th>photon_phi[1]</th>\n",
       "      <th>photon_E[0]</th>\n",
       "      <th>photon_E[1]</th>\n",
       "      <th>diphoton_mass</th>\n",
       "    </tr>\n",
       "    <tr>\n",
       "      <th>entry</th>\n",
       "      <th></th>\n",
       "      <th></th>\n",
       "      <th></th>\n",
       "      <th></th>\n",
       "      <th></th>\n",
       "      <th></th>\n",
       "      <th></th>\n",
       "      <th></th>\n",
       "      <th></th>\n",
       "    </tr>\n",
       "  </thead>\n",
       "  <tbody>\n",
       "    <tr>\n",
       "      <td>1</td>\n",
       "      <td>176121.156250</td>\n",
       "      <td>39629.144531</td>\n",
       "      <td>-0.833492</td>\n",
       "      <td>0.094703</td>\n",
       "      <td>-0.294239</td>\n",
       "      <td>0.567294</td>\n",
       "      <td>240922.312500</td>\n",
       "      <td>39806.988281</td>\n",
       "      <td>106420.710938</td>\n",
       "    </tr>\n",
       "    <tr>\n",
       "      <td>5</td>\n",
       "      <td>59702.843750</td>\n",
       "      <td>36279.230469</td>\n",
       "      <td>-0.496725</td>\n",
       "      <td>0.944734</td>\n",
       "      <td>-1.249765</td>\n",
       "      <td>1.442561</td>\n",
       "      <td>67220.937500</td>\n",
       "      <td>53709.812500</td>\n",
       "      <td>116489.304688</td>\n",
       "    </tr>\n",
       "    <tr>\n",
       "      <td>9</td>\n",
       "      <td>59590.574219</td>\n",
       "      <td>48349.218750</td>\n",
       "      <td>0.677454</td>\n",
       "      <td>1.657661</td>\n",
       "      <td>1.073675</td>\n",
       "      <td>-1.483528</td>\n",
       "      <td>73796.007812</td>\n",
       "      <td>131452.093750</td>\n",
       "      <td>116470.882812</td>\n",
       "    </tr>\n",
       "    <tr>\n",
       "      <td>12</td>\n",
       "      <td>73188.804688</td>\n",
       "      <td>62626.109375</td>\n",
       "      <td>-0.012039</td>\n",
       "      <td>-0.931096</td>\n",
       "      <td>0.486101</td>\n",
       "      <td>-2.276066</td>\n",
       "      <td>73194.109375</td>\n",
       "      <td>91791.382812</td>\n",
       "      <td>147763.281250</td>\n",
       "    </tr>\n",
       "    <tr>\n",
       "      <td>13</td>\n",
       "      <td>60071.027344</td>\n",
       "      <td>40881.761719</td>\n",
       "      <td>-2.054557</td>\n",
       "      <td>-0.305891</td>\n",
       "      <td>3.055348</td>\n",
       "      <td>1.028946</td>\n",
       "      <td>238227.640625</td>\n",
       "      <td>42809.355469</td>\n",
       "      <td>129235.617188</td>\n",
       "    </tr>\n",
       "    <tr>\n",
       "      <td>...</td>\n",
       "      <td>...</td>\n",
       "      <td>...</td>\n",
       "      <td>...</td>\n",
       "      <td>...</td>\n",
       "      <td>...</td>\n",
       "      <td>...</td>\n",
       "      <td>...</td>\n",
       "      <td>...</td>\n",
       "      <td>...</td>\n",
       "    </tr>\n",
       "    <tr>\n",
       "      <td>362845</td>\n",
       "      <td>56698.496094</td>\n",
       "      <td>54673.269531</td>\n",
       "      <td>0.968195</td>\n",
       "      <td>-0.731186</td>\n",
       "      <td>-0.846178</td>\n",
       "      <td>2.167801</td>\n",
       "      <td>85415.046875</td>\n",
       "      <td>69951.195312</td>\n",
       "      <td>153864.140625</td>\n",
       "    </tr>\n",
       "    <tr>\n",
       "      <td>362847</td>\n",
       "      <td>59611.757812</td>\n",
       "      <td>27660.048828</td>\n",
       "      <td>0.042606</td>\n",
       "      <td>1.664608</td>\n",
       "      <td>-0.876788</td>\n",
       "      <td>2.817131</td>\n",
       "      <td>59665.871094</td>\n",
       "      <td>75689.875000</td>\n",
       "      <td>107152.179688</td>\n",
       "    </tr>\n",
       "    <tr>\n",
       "      <td>362856</td>\n",
       "      <td>57474.222656</td>\n",
       "      <td>55986.339844</td>\n",
       "      <td>0.208165</td>\n",
       "      <td>0.189044</td>\n",
       "      <td>0.076922</td>\n",
       "      <td>-3.027287</td>\n",
       "      <td>58723.980469</td>\n",
       "      <td>56989.730469</td>\n",
       "      <td>113436.171875</td>\n",
       "    </tr>\n",
       "    <tr>\n",
       "      <td>362860</td>\n",
       "      <td>77078.117188</td>\n",
       "      <td>46948.613281</td>\n",
       "      <td>0.846383</td>\n",
       "      <td>1.134208</td>\n",
       "      <td>-1.699459</td>\n",
       "      <td>0.526832</td>\n",
       "      <td>106374.109375</td>\n",
       "      <td>80525.937500</td>\n",
       "      <td>109320.015625</td>\n",
       "    </tr>\n",
       "    <tr>\n",
       "      <td>362861</td>\n",
       "      <td>99188.945312</td>\n",
       "      <td>28816.429688</td>\n",
       "      <td>-1.683363</td>\n",
       "      <td>-2.220382</td>\n",
       "      <td>0.630459</td>\n",
       "      <td>-2.183977</td>\n",
       "      <td>276210.375000</td>\n",
       "      <td>134276.218750</td>\n",
       "      <td>109426.585938</td>\n",
       "    </tr>\n",
       "  </tbody>\n",
       "</table>\n",
       "<p>76382 rows × 9 columns</p>\n",
       "</div>"
      ],
      "text/plain": [
       "         photon_pt[0]  photon_pt[1]  photon_eta[0]  photon_eta[1]  \\\n",
       "entry                                                               \n",
       "1       176121.156250  39629.144531      -0.833492       0.094703   \n",
       "5        59702.843750  36279.230469      -0.496725       0.944734   \n",
       "9        59590.574219  48349.218750       0.677454       1.657661   \n",
       "12       73188.804688  62626.109375      -0.012039      -0.931096   \n",
       "13       60071.027344  40881.761719      -2.054557      -0.305891   \n",
       "...               ...           ...            ...            ...   \n",
       "362845   56698.496094  54673.269531       0.968195      -0.731186   \n",
       "362847   59611.757812  27660.048828       0.042606       1.664608   \n",
       "362856   57474.222656  55986.339844       0.208165       0.189044   \n",
       "362860   77078.117188  46948.613281       0.846383       1.134208   \n",
       "362861   99188.945312  28816.429688      -1.683363      -2.220382   \n",
       "\n",
       "        photon_phi[0]  photon_phi[1]    photon_E[0]    photon_E[1]  \\\n",
       "entry                                                                \n",
       "1           -0.294239       0.567294  240922.312500   39806.988281   \n",
       "5           -1.249765       1.442561   67220.937500   53709.812500   \n",
       "9            1.073675      -1.483528   73796.007812  131452.093750   \n",
       "12           0.486101      -2.276066   73194.109375   91791.382812   \n",
       "13           3.055348       1.028946  238227.640625   42809.355469   \n",
       "...               ...            ...            ...            ...   \n",
       "362845      -0.846178       2.167801   85415.046875   69951.195312   \n",
       "362847      -0.876788       2.817131   59665.871094   75689.875000   \n",
       "362856       0.076922      -3.027287   58723.980469   56989.730469   \n",
       "362860      -1.699459       0.526832  106374.109375   80525.937500   \n",
       "362861       0.630459      -2.183977  276210.375000  134276.218750   \n",
       "\n",
       "        diphoton_mass  \n",
       "entry                  \n",
       "1       106420.710938  \n",
       "5       116489.304688  \n",
       "9       116470.882812  \n",
       "12      147763.281250  \n",
       "13      129235.617188  \n",
       "...               ...  \n",
       "362845  153864.140625  \n",
       "362847  107152.179688  \n",
       "362856  113436.171875  \n",
       "362860  109320.015625  \n",
       "362861  109426.585938  \n",
       "\n",
       "[76382 rows x 9 columns]"
      ]
     },
     "execution_count": 8,
     "metadata": {},
     "output_type": "execute_result"
    }
   ],
   "source": [
    "cuts0 = df[(df[\"photon_pt[0]\"] > 35000)  & (df[\"photon_pt[1]\"] > 25000 )]\n",
    "\n",
    "cuts1 = cuts0[( np.abs(cuts0[\"photon_eta[0]\"]) < 2.37)  & ( np.abs(cuts0[\"photon_eta[1]\"]) < 2.37 )]\n",
    "\n",
    "#alternative eta cut, selects central photons only\n",
    "#cuts1 = cuts0[( np.abs(cuts0[\"photon_eta[0]\"]) < 0.75)  & ( np.abs(cuts0[\"photon_eta[1]\"]) < 0.75 )]\n",
    "\n",
    "cuts1a = cuts1[ (np.abs(cuts1[\"photon_eta[0]\"]) < 1.37) | (np.abs(cuts1[\"photon_eta[0]\"]) > 1.52) ]\n",
    "\n",
    "cuts1b = cuts1a[ (np.abs(cuts1a[\"photon_eta[1]\"]) < 1.37) | (np.abs(cuts1a[\"photon_eta[1]\"]) > 1.52) ]\n",
    "\n",
    "cuts2a = cuts1b[(cuts1b[\"photon_pt[0]\"] / cuts1b[\"diphoton_mass\"])  > 0.35]\n",
    "\n",
    "cuts2b = cuts2a[(cuts2a[\"photon_pt[1]\"] / cuts2a[\"diphoton_mass\"])  > 0.25]\n",
    "\n",
    "cuts3 = cuts2b[(cuts2b[\"diphoton_mass\"]  > 105000) & (cuts2b[\"diphoton_mass\"]  < 160000) ]\n",
    "\n",
    "finalData =  cuts3\n",
    "\n",
    "print(\"Number of selected events = \" + str(len(finalData.index)))\n",
    "\n",
    "finalData"
   ]
  },
  {
   "cell_type": "markdown",
   "metadata": {},
   "source": [
    "# Step 3. Combine the four vectors of the photons"
   ]
  },
  {
   "cell_type": "code",
   "execution_count": 12,
   "metadata": {},
   "outputs": [],
   "source": [
    "flatData0 = LVepm.TLorentzVectorArray.from_ptetaphi(finalData[\"photon_pt[0]\"], finalData[\"photon_eta[0]\"], finalData[\"photon_phi[0]\"],finalData[\"photon_E[0]\"])\n",
    "flatData1 = LVepm.TLorentzVectorArray.from_ptetaphi(finalData[\"photon_pt[1]\"], finalData[\"photon_eta[1]\"], finalData[\"photon_phi[1]\"],finalData[\"photon_E[1]\"])\n",
    "\n",
    "flatData = flatData0 + flatData1"
   ]
  },
  {
   "cell_type": "markdown",
   "metadata": {},
   "source": [
    "# Step 4. Create a histogram of the masses of the diphoton system."
   ]
  },
  {
   "cell_type": "code",
   "execution_count": 20,
   "metadata": {},
   "outputs": [],
   "source": [
    "mH = 124894.0\n",
    "sigmaH = 210.0\n",
    "\n",
    "#example binning\n",
    "nBins = 30\n",
    "minMass = 105000\n",
    "maxMass = 160000\n",
    "\n",
    "#biased bins for H125 (such that one bin sits right on the higgs peak)\n",
    "#nBins = 10\n",
    "#minMass = 106000\n",
    "#maxMass = 160000\n",
    "\n",
    "countsData, edges = np.histogram(flatData.mass, bins=nBins, range=(minMass,maxMass))\n",
    "\n",
    "centres = (edges[1:] + edges[:-1]) / 2\n",
    "\n",
    "# get the width of each bin\n",
    "bin_width = edges[1] - edges[0]\n",
    "\n",
    "# sum over number in each bin and mult by bin width, which can be factored out\n",
    "integral = bin_width * sum(countsData[0:nBins])\n",
    "\n",
    "#guess a signal integral for illustration\n",
    "integral = 11138020.23\n",
    "integral = 10113802.23"
   ]
  },
  {
   "cell_type": "markdown",
   "metadata": {},
   "source": [
    "# Step 5. Fit a signal + background model to data and make a comparison plot.\n",
    "\n",
    "- create a statistical model for the diphoton mass distribution composed of of a gaussian ('norm') pdf for the $H\\rightarrow \\gamma \\gamma$ process and a third-order polynomial fuction for the background diphoton processes. The mean of the signal gauusian distribution is chosen as the measured $m_{H}$ value."
   ]
  },
  {
   "cell_type": "code",
   "execution_count": 21,
   "metadata": {},
   "outputs": [
    {
     "data": {
      "text/plain": [
       "<matplotlib.legend.Legend at 0x121c2a150>"
      ]
     },
     "execution_count": 21,
     "metadata": {},
     "output_type": "execute_result"
    },
    {
     "data": {
      "image/png": "[encoded data removed]",
      "text/plain": [
       "<Figure size 432x288 with 1 Axes>"
      ]
     },
     "metadata": {
      "needs_background": "light"
     },
     "output_type": "display_data"
    }
   ],
   "source": [
    "b = np.poly1d(np.polyfit(centres, countsData, 3))\n",
    "\n",
    "s = ( scipy.stats.norm.pdf(centres, mH, sigmaH) * integral)\n",
    "sb = s+b(centres)\n",
    "\n",
    "plt.figure()\n",
    "plt.xlabel(\"m phph\")\n",
    "plt.ylabel(\"events per bin\")\n",
    "plt.plot(centres, s, 'b', linewidth=1, label=\"Potential Signal\")\n",
    "plt.plot(centres, b(centres), 'k', linewidth=1, linestyle=\"--\", label=\"Background\")\n",
    "plt.plot(centres, sb, 'r', linewidth=2, label=\"Signal+Background\")\n",
    "\n",
    "plt.errorbar(centres, countsData, yerr=np.sqrt(countsData), fmt='o', mfc='k', mec='k',ms=4, mew=0.2, ecolor='k',label=\"ATLAS Open Data\",)\n",
    "plt.legend()"
   ]
  },
  {
   "cell_type": "markdown",
   "metadata": {},
   "source": [
    "# Step 6. Create a plot of the binned \"residuals\" vs $m_{H}$\n",
    "\n",
    "- Subtract the polynomial prediction from the background to calculate the \\emph{residuals}. \n",
    "- Use python libraries to fit a gaussian distrubution to the residual graph and estimate the number of signal events in the data."
   ]
  },
  {
   "cell_type": "code",
   "execution_count": 24,
   "metadata": {},
   "outputs": [
    {
     "data": {
      "image/png": "[encoded data removed]",
      "text/plain": [
       "<Figure size 432x288 with 1 Axes>"
      ]
     },
     "metadata": {
      "needs_background": "light"
     },
     "output_type": "display_data"
    },
    {
     "name": "stdout",
     "output_type": "stream",
     "text": [
      "CPU times: user 193 ms, sys: 10.2 ms, total: 203 ms\n",
      "Wall time: 201 ms\n"
     ]
    }
   ],
   "source": [
    "%%time\n",
    "#ratio plot \n",
    "residuals = countsData - b(centres) \n",
    "plt.figure()\n",
    "plt.xlabel(\"m phph\")\n",
    "plt.ylabel(\"Data - prediction\")\n",
    "plt.errorbar(centres, residuals, yerr=np.sqrt(countsData), label=\"Data - Background\", fmt='o', mfc='k', mec='k', mew=0.2, ecolor='k')\n",
    "\n",
    "nSteps = 100\n",
    "\n",
    "plt.plot(centres, s, 'b', linewidth=1, label=\"Potential Signal\")\n",
    "#plt.plot(x, ( scipy.stats.norm.pdf(x, mH, sigmaH) * integral), 'b', linewidth=1, label=\"Signal\")\n",
    "plt.plot(centres, np.zeros(len(centres)), 'k', linewidth=1, linestyle=\"--\", label=\"Background\")\n",
    "plt.legend()\n",
    "plt.show()"
   ]
  },
  {
   "cell_type": "markdown",
   "metadata": {},
   "source": [
    "# Step 7.  Simultaneously fit  $m_{H}$, $\\Gamma_{H}$ and $N_{H\\rightarrow\\gamma\\gamma}$ from the residuals plot"
   ]
  },
  {
   "cell_type": "code",
   "execution_count": 28,
   "metadata": {},
   "outputs": [
    {
     "name": "stdout",
     "output_type": "stream",
     "text": [
      "best fitting parameters:\n",
      "MH = 124437.52136005287\n",
      "sigmaH = 110.93544019327686\n",
      "Integral = 728.2075326692104\n"
     ]
    },
    {
     "data": {
      "image/png": "[encoded data removed]",
      "text/plain": [
       "<Figure size 432x288 with 1 Axes>"
      ]
     },
     "metadata": {
      "needs_background": "light"
     },
     "output_type": "display_data"
    }
   ],
   "source": [
    "#assume mass, sigma\n",
    "from scipy.optimize import curve_fit\n",
    "\n",
    "def gaussian(x, mean, amplitude, standard_deviation):\n",
    "    return amplitude * np.exp( - ((x - mean) / standard_deviation) ** 2)\n",
    "\n",
    "bestFitParams, covarianceMatrix = curve_fit(gaussian, centres, residuals, p0=[125000., 200., 1000.])\n",
    "\n",
    "x_interval_for_fit = np.linspace(edges[0], edges[-1], 10000)\n",
    "plt.plot(x_interval_for_fit, gaussian(x_interval_for_fit, *bestFitParams), label='fit')\n",
    "plt.errorbar(centres, residuals, yerr=np.sqrt(countsData), label=\"Data - Background\", fmt='o', mfc='k', mec='k', mew=0.2, ecolor='k')\n",
    "plt.legend()\n",
    "\n",
    "#approximate integral of the best-fit gaussian signal\n",
    "limA = 11500\n",
    "limA = 13500\n",
    "sigIntegral = 0.0\n",
    "stepSize = (maxMass - minMass)/(nSteps)\n",
    "\n",
    "xStep = minMass\n",
    "\n",
    "for p in range(0, nSteps):\n",
    "        xStep = xStep + stepSize\n",
    "        sigHeight = gaussian(xStep, *bestFitParams)\n",
    "        #print(sigHeight)\n",
    "        #sigIntegral = (sigIntegral + (sigHeight*binWidth) )\n",
    "        sigIntegral = (sigIntegral + (sigHeight) )\n",
    "\n",
    "print(\"best fitting parameters:\")\n",
    "print(\"MH = \" + str(float(bestFitParams[0])))\n",
    "print(\"sigmaH = \" + str(float(bestFitParams[1]) ))\n",
    "print(\"Integral = \" + str(float(sigIntegral) ))"
   ]
  },
  {
   "cell_type": "markdown",
   "metadata": {},
   "source": [
    "# Step 8  Estimate the statistical significance of the $H\\rightarrow \\gamma \\gamma$ signal.\n",
    "\n",
    "\n"
   ]
  },
  {
   "cell_type": "markdown",
   "metadata": {},
   "source": [
    "# Step 9 - Your turn!\n",
    "\n",
    "It's time for you to try improvements to the analysis especially if they can improve the significance of the signal.\n",
    "Refer to the lab manual for suggested modifications.\n",
    "\n"
   ]
  }
 ],
 "metadata": {
  "kernelspec": {
   "display_name": "Python 3",
   "language": "python",
   "name": "python3"
  },
  "language_info": {
   "codemirror_mode": {
    "name": "ipython",
    "version": 3
   },
   "file_extension": ".py",
   "mimetype": "text/x-python",
   "name": "python",
   "nbconvert_exporter": "python",
   "pygments_lexer": "ipython3",
   "version": "3.7.4"
  }
 },
 "nbformat": 4,
 "nbformat_minor": 2
}
