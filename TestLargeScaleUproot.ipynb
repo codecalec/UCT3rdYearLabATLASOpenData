{
 "cells": [
  {
   "cell_type": "code",
   "execution_count": 188,
   "metadata": {},
   "outputs": [],
   "source": [
    "import uproot\n",
    "import uproot_methods.classes.TLorentzVector as LVepm\n",
    "import numpy as np\n",
    "import pandas as pd\n",
    "import matplotlib.pyplot as plt\n",
    "import scipy.stats\n",
    "from scipy.stats import expon"
   ]
  },
  {
   "cell_type": "code",
   "execution_count": 2,
   "metadata": {},
   "outputs": [],
   "source": [
    "#eventsDataA = uproot.open(\"/Users/jameskeaveney/UCT3rdYearLabs/UCT3rdYearLabATLASOpenData/data_A.GamGam.root\")[\"mini\"]\n",
    "#eventsDataB = uproot.open(\"/Users/jameskeaveney/UCT3rdYearLabs/UCT3rdYearLabATLASOpenData/data_B.GamGam.root\")[\"mini\"]\n",
    "#eventsDataC = uproot.open(\"/Users/jameskeaveney/UCT3rdYearLabs/UCT3rdYearLabATLASOpenData/data_C.GamGam.root\")[\"mini\"]\n",
    "\n",
    "#eventsDataA = uproot.open(\"https://atlas-opendata.web.cern.ch/atlas-opendata/samples/2020/GamGam/Data/data_A.GamGam.root\")[\"mini\"]\n",
    "#eventsDataB = uproot.open(\"https://atlas-opendata.web.cern.ch/atlas-opendata/samples/2020/GamGam/Data/data_B.GamGam.root\")[\"mini\"]\n",
    "#eventsDataC = uproot.open(\"https://atlas-opendata.web.cern.ch/atlas-opendata/samples/2020/GamGam/Data/data_C.GamGam.root\")[\"mini\"]\n",
    "#eventsDataD = uproot.open(\"https://atlas-opendata.web.cern.ch/atlas-opendata/samples/2020/GamGam/Data/data_D.GamGam.root\")[\"mini\"]\n",
    "\n",
    "eventsData = uproot.open(\"/Users/jameskeaveney/UCT3rdYearLabs/UCT3rdYearLabATLASOpenData/data.GamGam.root\")[\"mini\"]"
   ]
  },
  {
   "cell_type": "code",
   "execution_count": 121,
   "metadata": {},
   "outputs": [
    {
     "name": "stdout",
     "output_type": "stream",
     "text": [
      "runNumber                  (no streamer)              asdtype('>i4')\n",
      "eventNumber                (no streamer)              asdtype('>i4')\n",
      "channelNumber              (no streamer)              asdtype('>i4')\n",
      "mcWeight                   (no streamer)              asdtype('>f4')\n",
      "scaleFactor_PILEUP         (no streamer)              asdtype('>f4')\n",
      "scaleFactor_ELE            (no streamer)              asdtype('>f4')\n",
      "scaleFactor_MUON           (no streamer)              asdtype('>f4')\n",
      "scaleFactor_PHOTON         (no streamer)              asdtype('>f4')\n",
      "scaleFactor_TAU            (no streamer)              asdtype('>f4')\n",
      "scaleFactor_BTAG           (no streamer)              asdtype('>f4')\n",
      "scaleFactor_LepTRIGGER     (no streamer)              asdtype('>f4')\n",
      "scaleFactor_PhotonTRIGGER  (no streamer)              asdtype('>f4')\n",
      "trigE                      (no streamer)              asdtype('bool')\n",
      "trigM                      (no streamer)              asdtype('bool')\n",
      "trigP                      (no streamer)              asdtype('bool')\n",
      "lep_n                      (no streamer)              asdtype('>u4')\n",
      "lep_truthMatched           (no streamer)              asjagged(asdtype('bool'), 10)\n",
      "lep_trigMatched            (no streamer)              asjagged(asdtype('bool'), 10)\n",
      "lep_pt                     (no streamer)              asjagged(asdtype('>f4'), 10)\n",
      "lep_eta                    (no streamer)              asjagged(asdtype('>f4'), 10)\n",
      "lep_phi                    (no streamer)              asjagged(asdtype('>f4'), 10)\n",
      "lep_E                      (no streamer)              asjagged(asdtype('>f4'), 10)\n",
      "lep_z0                     (no streamer)              asjagged(asdtype('>f4'), 10)\n",
      "lep_charge                 (no streamer)              asjagged(asdtype('>i4'), 10)\n",
      "lep_type                   TStreamerSTL               asjagged(asdtype('>u4'), 10)\n",
      "lep_isTightID              (no streamer)              asjagged(asdtype('bool'), 10)\n",
      "lep_ptcone30               (no streamer)              asjagged(asdtype('>f4'), 10)\n",
      "lep_etcone20               (no streamer)              asjagged(asdtype('>f4'), 10)\n",
      "lep_trackd0pvunbiased      (no streamer)              asjagged(asdtype('>f4'), 10)\n",
      "lep_tracksigd0pvunbiased   (no streamer)              asjagged(asdtype('>f4'), 10)\n",
      "met_et                     (no streamer)              asdtype('>f4')\n",
      "met_phi                    (no streamer)              asdtype('>f4')\n",
      "jet_n                      (no streamer)              asdtype('>u4')\n",
      "jet_pt                     (no streamer)              asjagged(asdtype('>f4'), 10)\n",
      "jet_eta                    (no streamer)              asjagged(asdtype('>f4'), 10)\n",
      "jet_phi                    (no streamer)              asjagged(asdtype('>f4'), 10)\n",
      "jet_E                      (no streamer)              asjagged(asdtype('>f4'), 10)\n",
      "jet_jvt                    (no streamer)              asjagged(asdtype('>f4'), 10)\n",
      "jet_trueflav               (no streamer)              asjagged(asdtype('>i4'), 10)\n",
      "jet_truthMatched           (no streamer)              asjagged(asdtype('bool'), 10)\n",
      "jet_MV2c10                 (no streamer)              asjagged(asdtype('>f4'), 10)\n",
      "photon_n                   (no streamer)              asdtype('>u4')\n",
      "photon_truthMatched        (no streamer)              asjagged(asdtype('bool'), 10)\n",
      "photon_trigMatched         (no streamer)              asjagged(asdtype('bool'), 10)\n",
      "photon_pt                  (no streamer)              asjagged(asdtype('>f4'), 10)\n",
      "photon_eta                 (no streamer)              asjagged(asdtype('>f4'), 10)\n",
      "photon_phi                 (no streamer)              asjagged(asdtype('>f4'), 10)\n",
      "photon_E                   (no streamer)              asjagged(asdtype('>f4'), 10)\n",
      "photon_isTightID           (no streamer)              asjagged(asdtype('bool'), 10)\n",
      "photon_ptcone30            (no streamer)              asjagged(asdtype('>f4'), 10)\n",
      "photon_etcone20            (no streamer)              asjagged(asdtype('>f4'), 10)\n",
      "photon_convType            (no streamer)              asjagged(asdtype('>i4'), 10)\n",
      "tau_n                      (no streamer)              asdtype('>u4')\n",
      "tau_pt                     (no streamer)              asjagged(asdtype('>f4'), 10)\n",
      "tau_eta                    (no streamer)              asjagged(asdtype('>f4'), 10)\n",
      "tau_phi                    (no streamer)              asjagged(asdtype('>f4'), 10)\n",
      "tau_E                      (no streamer)              asjagged(asdtype('>f4'), 10)\n",
      "tau_isTightID              (no streamer)              asjagged(asdtype('bool'), 10)\n",
      "tau_truthMatched           (no streamer)              asjagged(asdtype('bool'), 10)\n",
      "tau_trigMatched            (no streamer)              asjagged(asdtype('bool'), 10)\n",
      "tau_nTracks                (no streamer)              asjagged(asdtype('>i4'), 10)\n",
      "tau_BDTid                  (no streamer)              asjagged(asdtype('>f4'), 10)\n",
      "ditau_m                    (no streamer)              asdtype('>f4')\n",
      "lep_pt_syst                (no streamer)              asjagged(asdtype('>f4'), 10)\n",
      "met_et_syst                (no streamer)              asdtype('>f4')\n",
      "jet_pt_syst                (no streamer)              asjagged(asdtype('>f4'), 10)\n",
      "photon_pt_syst             (no streamer)              asjagged(asdtype('>f4'), 10)\n",
      "tau_pt_syst                (no streamer)              asjagged(asdtype('>f4'), 10)\n",
      "XSection                   (no streamer)              asdtype('>f4')\n",
      "SumWeights                 (no streamer)              asdtype('>f4')\n",
      "largeRjet_n                (no streamer)              asdtype('>u4')\n",
      "largeRjet_pt               (no streamer)              asjagged(asdtype('>f4'), 10)\n",
      "largeRjet_eta              (no streamer)              asjagged(asdtype('>f4'), 10)\n",
      "largeRjet_phi              (no streamer)              asjagged(asdtype('>f4'), 10)\n",
      "largeRjet_E                (no streamer)              asjagged(asdtype('>f4'), 10)\n",
      "largeRjet_m                (no streamer)              asjagged(asdtype('>f4'), 10)\n",
      "largeRjet_truthMatched     (no streamer)              asjagged(asdtype('>f4'), 10)\n",
      "largeRjet_D2               (no streamer)              asjagged(asdtype('>f4'), 10)\n",
      "largeRjet_tau32            (no streamer)              asjagged(asdtype('>f4'), 10)\n",
      "largeRjet_pt_syst          (no streamer)              asjagged(asdtype('>f4'), 10)\n",
      "tau_charge                 (no streamer)              asjagged(asdtype('>i4'), 10)\n",
      "7798424\n"
     ]
    }
   ],
   "source": [
    "eventsData.show()\n",
    "#type(eventsData)\n",
    "print(eventsData.numentries)"
   ]
  },
  {
   "cell_type": "code",
   "execution_count": 137,
   "metadata": {},
   "outputs": [],
   "source": [
    "df = eventsData.pandas.df([\"photon_pt\", \"photon_eta\", \"photon_phi\", \"photon_E\", \"photon_eta\", \"photon_isTightID\",\"photon_etcone20\",\"photon_ptcone30\", \"trigP\"])\n",
    "df = df.unstack()"
   ]
  },
  {
   "cell_type": "code",
   "execution_count": 175,
   "metadata": {},
   "outputs": [
    {
     "name": "stdout",
     "output_type": "stream",
     "text": [
      "215526\n"
     ]
    }
   ],
   "source": [
    "cut0 = df[(df.trigP == True ) ]\n",
    "\n",
    "cuts1 = cut0[(cut0.photon_isTightID[0] == True) & (cut0.photon_isTightID[1] == True)]\n",
    "\n",
    "cuts2 = cuts1[(cuts1.photon_pt[0] > 40000) & (cuts1.photon_pt[1] > 30000) & (np.abs(cuts1.photon_eta[0]) < 2.37) & (np.abs(cuts1.photon_eta[1]) < 2.37) ]\n",
    "\n",
    "cuts2a = cuts2[ ((np.abs(cuts2.photon_eta[0]) < 1.37) |  (np.abs(cuts2.photon_eta[0]) > 1.52) ) & ((np.abs(cuts2.photon_eta[1]) < 1.37) |  (np.abs(cuts2.photon_eta[1]) > 1.52) ) ]\n",
    "\n",
    "cuts3 = cuts2a[((cuts2a.photon_etcone20[0]/cuts2a.photon_pt[0] ) < 0.065) & ( (cuts2a.photon_etcone20[1]/cuts2a.photon_pt[1] ) < 0.065) ]\n",
    "\n",
    "cuts4 = cuts3[( (cuts3.photon_ptcone30[0]/cuts3.photon_pt[0] ) < 0.065) & (  (cuts3.photon_ptcone30[1]/cuts3.photon_pt[1] ) < 0.065) ]\n",
    "\n",
    "cuts5 = cuts4[cuts4.photon_pt[0] / np.sqrt(2.0*cuts4.photon_pt[0]*cuts4.photon_pt[1] * ( np.cosh(cuts4.photon_eta[0]-cuts4.photon_eta[1]) - np.cos(cuts4.photon_phi[0]-cuts4.photon_phi[1]))) > 0.35]\n",
    "# sqrt( 2 * Photon_1.Pt()/1000. * Photon_2.Pt()/1000. * (cosh( Photon_1.Eta() - Photon_2.Eta()) - cos(dPhi_yy)));\n",
    "\n",
    "cuts6 = cuts5[cuts5.photon_pt[1] / np.sqrt(2.0*cuts5.photon_pt[0]*cuts5.photon_pt[1] * ( np.cosh(cuts5.photon_eta[0]-cuts5.photon_eta[1]) - np.cos(cuts5.photon_phi[0]-cuts5.photon_phi[1]))) > 0.25]\n",
    "\n",
    "\n",
    "cuts6\n",
    "print(len(cuts6.index))\n",
    "\n"
   ]
  },
  {
   "cell_type": "code",
   "execution_count": 180,
   "metadata": {},
   "outputs": [],
   "source": [
    "#flatData = LVepm.TLorentzVectorArray.from_ptetaphi(ph_pt, ph_eta, ph_phi, ph_E)\n",
    "flatData0 = LVepm.TLorentzVectorArray.from_ptetaphi(cuts6.photon_pt[0], cuts6.photon_eta[0], cuts6.photon_phi[0],cuts6.photon_E[0])\n",
    "flatData1 = LVepm.TLorentzVectorArray.from_ptetaphi(cuts6.photon_pt[1], cuts6.photon_eta[1], cuts6.photon_phi[1],cuts6.photon_E[1])\n",
    "\n",
    "flatData = flatData0 + flatData1\n",
    "\n"
   ]
  },
  {
   "cell_type": "code",
   "execution_count": 181,
   "metadata": {},
   "outputs": [
    {
     "data": {
      "text/plain": [
       "(array([806540., 610109., 509712., 459320., 424809., 397748., 374084.,\n",
       "        346472., 318666., 290500., 260889., 233286., 207210., 182362.,\n",
       "        160071., 140239., 121369., 105579.,  91509.,  79465.,  68676.,\n",
       "         59236.,  51201.,  44683.,  38223.,  33133.,  29089.,  25062.,\n",
       "         21747.,  19178.,  16820.,  14670.,  12789.,  11242.,  10032.,\n",
       "          8808.,   7701.,   6770.,   6054.,   5445.,   4907.,   4292.,\n",
       "          3845.,   3495.,   3123.,   2761.,   2528.,   2291.,   2095.,\n",
       "          1918.]),\n",
       " array([0.   , 0.012, 0.024, 0.036, 0.048, 0.06 , 0.072, 0.084, 0.096,\n",
       "        0.108, 0.12 , 0.132, 0.144, 0.156, 0.168, 0.18 , 0.192, 0.204,\n",
       "        0.216, 0.228, 0.24 , 0.252, 0.264, 0.276, 0.288, 0.3  , 0.312,\n",
       "        0.324, 0.336, 0.348, 0.36 , 0.372, 0.384, 0.396, 0.408, 0.42 ,\n",
       "        0.432, 0.444, 0.456, 0.468, 0.48 , 0.492, 0.504, 0.516, 0.528,\n",
       "        0.54 , 0.552, 0.564, 0.576, 0.588, 0.6  ], dtype=float32),\n",
       " <a list of 50 Patch objects>)"
      ]
     },
     "execution_count": 181,
     "metadata": {},
     "output_type": "execute_result"
    },
    {
     "data": {
      "image/png": "[encoded data removed]",
      "text/plain": [
       "<Figure size 432x288 with 1 Axes>"
      ]
     },
     "metadata": {
      "needs_background": "light"
     },
     "output_type": "display_data"
    }
   ],
   "source": [
    "#plt.hist(flatData.mass, bins=30, range=[105000,160000], alpha=0.6, color='g')\n",
    "plt.hist(df.photon_etcone20[0]/df.photon_pt[0], bins=50, range=[0,0.6], alpha=0.6, color='g')\n"
   ]
  },
  {
   "cell_type": "code",
   "execution_count": 202,
   "metadata": {},
   "outputs": [
    {
     "name": "stdout",
     "output_type": "stream",
     "text": [
      "           3             2\n",
      "1.309e-12 x + 3.047e-07 x - 0.2179 x + 2.274e+04\n"
     ]
    },
    {
     "data": {
      "text/plain": [
       "[<matplotlib.lines.Line2D at 0x18b8dde10>]"
      ]
     },
     "execution_count": 202,
     "metadata": {},
     "output_type": "execute_result"
    },
    {
     "data": {
      "image/png": "[encoded data removed]",
      "text/plain": [
       "<Figure size 432x288 with 1 Axes>"
      ]
     },
     "metadata": {
      "needs_background": "light"
     },
     "output_type": "display_data"
    }
   ],
   "source": [
    "plt.figure()\n",
    "plt.xlabel(\"m phph\")\n",
    "plt.ylabel(\"events per bin\")\n",
    "plt.hist(flatData.mass, bins=30, range=[105000,160000], alpha=0.6, color='g')\n",
    "countsData, edges = np.histogram(flatData.mass, bins=30, range=(105000,160000))\n",
    "centres = (edges[1:] + edges[:-1]) / 2\n",
    "\n",
    "# get the width of each bin\n",
    "bin_width = edges[1] - edges[0]\n",
    "# sum over number in each bin and mult by bin width, which can be factored out\n",
    "integral = bin_width * sum(countsData[0:30])\n",
    "\n",
    "#print(centres)\n",
    "#print(countsData)\n",
    "\n",
    "p = np.poly1d(np.polyfit(centres, countsData, 3))\n",
    "print(p)\n",
    "plt.plot(centres, p(centres), 'k', linewidth=2)"
   ]
  },
  {
   "cell_type": "code",
   "execution_count": 212,
   "metadata": {},
   "outputs": [
    {
     "data": {
      "image/png": "[encoded data removed]",
      "text/plain": [
       "<Figure size 432x288 with 1 Axes>"
      ]
     },
     "metadata": {
      "needs_background": "light"
     },
     "output_type": "display_data"
    }
   ],
   "source": [
    "#ratio plot \n",
    "ratios = countsData - p(centres) \n",
    "plt.figure()\n",
    "plt.xlabel(\"m phph\")\n",
    "plt.ylabel(\"Data - prediction\")\n",
    "plt.plot(centres, ratios,  'b+')\n",
    "#plt.plot(centres, p, 'k', linewidth=2)\n",
    "\n",
    "integral = 1300000.0\n",
    "\n",
    "gt = ( scipy.stats.cauchy.pdf(centres, 125000.0, 5000.0) * integral)\n",
    "plt.plot(centres, gt, 'k', linewidth=2)\n",
    "\n",
    "plt.show()"
   ]
  },
  {
   "cell_type": "code",
   "execution_count": 146,
   "metadata": {},
   "outputs": [
    {
     "name": "stdout",
     "output_type": "stream",
     "text": [
      "ev = 10000\n",
      "ev = 20000\n",
      "ev = 30000\n",
      "ev = 40000\n",
      "ev = 50000\n",
      "ev = 60000\n",
      "ev = 70000\n",
      "ev = 80000\n",
      "ev = 90000\n",
      "ev = 100000\n",
      "ev = 110000\n",
      "ev = 120000\n",
      "ev = 130000\n",
      "ev = 140000\n",
      "ev = 150000\n",
      "ev = 160000\n",
      "ev = 170000\n",
      "ev = 180000\n",
      "ev = 190000\n",
      "ev = 200000\n",
      "ev = 210000\n",
      "ev = 220000\n",
      "ev = 230000\n",
      "ev = 240000\n",
      "ev = 250000\n",
      "ev = 260000\n",
      "ev = 270000\n",
      "ev = 280000\n",
      "ev = 290000\n",
      "ev = 300000\n",
      "ev = 310000\n",
      "ev = 320000\n",
      "ev = 330000\n",
      "ev = 340000\n",
      "ev = 350000\n",
      "ev = 360000\n",
      "ev = 370000\n",
      "ev = 380000\n",
      "ev = 390000\n",
      "ev = 400000\n",
      "ev = 410000\n",
      "ev = 420000\n",
      "ev = 430000\n",
      "ev = 440000\n",
      "ev = 450000\n",
      "ev = 460000\n",
      "ev = 470000\n",
      "ev = 480000\n",
      "ev = 490000\n",
      "ev = 500000\n",
      "ev = 510000\n",
      "ev = 520000\n",
      "ev = 530000\n",
      "ev = 540000\n",
      "ev = 550000\n",
      "ev = 560000\n",
      "ev = 570000\n",
      "ev = 580000\n",
      "ev = 590000\n",
      "ev = 600000\n",
      "ev = 610000\n",
      "ev = 620000\n",
      "ev = 630000\n",
      "ev = 640000\n",
      "ev = 650000\n",
      "ev = 660000\n",
      "ev = 670000\n",
      "ev = 680000\n",
      "ev = 690000\n",
      "ev = 700000\n",
      "ev = 710000\n",
      "ev = 720000\n",
      "ev = 730000\n",
      "ev = 740000\n",
      "ev = 750000\n",
      "ev = 760000\n",
      "ev = 770000\n",
      "ev = 780000\n",
      "ev = 790000\n",
      "ev = 800000\n",
      "ev = 810000\n",
      "ev = 820000\n",
      "ev = 830000\n",
      "ev = 840000\n",
      "ev = 850000\n",
      "ev = 860000\n",
      "ev = 870000\n",
      "ev = 880000\n",
      "ev = 890000\n",
      "ev = 900000\n",
      "ev = 910000\n",
      "ev = 920000\n",
      "ev = 930000\n",
      "ev = 940000\n",
      "ev = 950000\n",
      "ev = 960000\n",
      "ev = 970000\n",
      "ev = 980000\n",
      "ev = 990000\n",
      "ev = 1000000\n",
      "ev = 1010000\n",
      "ev = 1020000\n",
      "ev = 1030000\n",
      "ev = 1040000\n",
      "ev = 1050000\n",
      "ev = 1060000\n",
      "ev = 1070000\n",
      "ev = 1080000\n",
      "ev = 1090000\n",
      "ev = 1100000\n",
      "ev = 1110000\n",
      "ev = 1120000\n",
      "ev = 1130000\n",
      "ev = 1140000\n",
      "ev = 1150000\n",
      "ev = 1160000\n",
      "ev = 1170000\n",
      "ev = 1180000\n",
      "ev = 1190000\n",
      "ev = 1200000\n",
      "ev = 1210000\n",
      "ev = 1220000\n",
      "ev = 1230000\n",
      "ev = 1240000\n",
      "ev = 1250000\n",
      "ev = 1260000\n",
      "ev = 1270000\n"
     ]
    }
   ],
   "source": [
    "\n",
    "#create a few arrays to hold some specific information about the collisions\n",
    "massesData = np.array([])\n",
    "\n",
    "nData = 0\n",
    "nTarget = 200000\n",
    "    \n",
    "#loop over events and extract info from the array\n",
    "for ev in range(0,len(flatData)):\n",
    "        phph = flatData[ev][0] + flatData[ev][1] \n",
    "        mass = phph.mass\n",
    "        et1Mass = flatData[ev][0].pt/mass\n",
    "        et2Mass = flatData[ev][1].pt/mass\n",
    "        if ((mass > 105000) & (et1Mass > 0.3) & (et2Mass > 0.3) ):\n",
    "            massesData = np.append(massesData,mass)\n",
    "            nData = nData + 1\n",
    "            if ((nData % 10000) == 0):\n",
    "                print(\"ev = \" + str(nData))\n",
    "        #if (nData == nTarget):\n",
    "        #    break"
   ]
  },
  {
   "cell_type": "code",
   "execution_count": 157,
   "metadata": {},
   "outputs": [
    {
     "name": "stdout",
     "output_type": "stream",
     "text": [
      "           3             2\n",
      "2.329e-10 x - 9.886e-05 x + 13.37 x - 5.476e+05\n"
     ]
    },
    {
     "data": {
      "text/plain": [
       "[<matplotlib.lines.Line2D at 0x11d1e6b50>]"
      ]
     },
     "execution_count": 157,
     "metadata": {},
     "output_type": "execute_result"
    },
    {
     "data": {
      "image/png": "[encoded data removed]",
      "text/plain": [
       "<Figure size 432x288 with 1 Axes>"
      ]
     },
     "metadata": {
      "needs_background": "light"
     },
     "output_type": "display_data"
    }
   ],
   "source": [
    "# plot the m phph histogram.\n",
    "plt.figure()\n",
    "plt.xlabel(\"m phph\")\n",
    "plt.ylabel(\"events per bin\")\n",
    "plt.hist(massesData, bins=30, range=[105000,160000], alpha=0.6, color='g')\n",
    "countsData, edges = np.histogram(massesData, bins=30, range=(105000,160000))\n",
    "centres = (edges[1:] + edges[:-1]) / 2\n",
    "\n",
    "# get the width of each bin\n",
    "bin_width = edges[1] - edges[0]\n",
    "# sum over number in each bin and mult by bin width, which can be factored out\n",
    "integral = bin_width * sum(countsData[0:30])\n",
    "\n",
    "#print(centres)\n",
    "#print(countsData)\n",
    "#p = (expon.pdf(edges, mu, std) * integral)\n",
    "#p = np.polyfit(centres, countsData, 3)\n",
    "\n",
    "p = np.poly1d(np.polyfit(centres, countsData, 3))\n",
    "print(p)\n",
    "plt.plot(centres, p(centres), 'k', linewidth=2)"
   ]
  },
  {
   "cell_type": "code",
   "execution_count": 148,
   "metadata": {},
   "outputs": [
    {
     "data": {
      "image/png": "[encoded data removed]",
      "text/plain": [
       "<Figure size 432x288 with 1 Axes>"
      ]
     },
     "metadata": {
      "needs_background": "light"
     },
     "output_type": "display_data"
    }
   ],
   "source": [
    "#ratio plot \n",
    "ratios = (countsData) / p(centres) \n",
    "plt.figure()\n",
    "plt.xlabel(\"m phph\")\n",
    "plt.ylabel(\"Data / prediction\")\n",
    "\n",
    "plt.plot(centres, ratios,  'r+')\n",
    "\n",
    "\n",
    "plt.show()\n"
   ]
  }
 ],
 "metadata": {
  "kernelspec": {
   "display_name": "Python 3",
   "language": "python",
   "name": "python3"
  },
  "language_info": {
   "codemirror_mode": {
    "name": "ipython",
    "version": 3
   },
   "file_extension": ".py",
   "mimetype": "text/x-python",
   "name": "python",
   "nbconvert_exporter": "python",
   "pygments_lexer": "ipython3",
   "version": "3.7.4"
  }
 },
 "nbformat": 4,
 "nbformat_minor": 2
}
