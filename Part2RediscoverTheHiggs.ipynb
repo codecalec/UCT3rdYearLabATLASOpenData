{
 "cells": [
  {
   "cell_type": "code",
   "execution_count": 1,
   "metadata": {},
   "outputs": [],
   "source": [
    "import uproot\n",
    "import uproot_methods.classes.TLorentzVector as LVepm\n",
    "import numpy as np\n",
    "import pandas as pd\n",
    "import matplotlib.pyplot as plt\n",
    "import scipy.stats\n",
    "from scipy.stats import expon"
   ]
  },
  {
   "cell_type": "code",
   "execution_count": 86,
   "metadata": {},
   "outputs": [
    {
     "name": "stdout",
     "output_type": "stream",
     "text": [
      "photon_pt                  (no streamer)              asdtype(\"('>f4', (2,))\")\n",
      "photon_eta                 (no streamer)              asdtype(\"('>f4', (2,))\")\n",
      "photon_phi                 (no streamer)              asdtype(\"('>f4', (2,))\")\n",
      "photon_E                   (no streamer)              asdtype(\"('>f4', (2,))\")\n",
      "diphoton_mass              (no streamer)              asdtype('>f4')\n"
     ]
    }
   ],
   "source": [
    "#eventsData = uproot.open(\"/Users/jameskeaveney/UCT3rdYearLabs/UCT3rdYearLabATLASOpenData/data_Skim_GamGam.root\")[\"mini\"]\n",
    "eventsData = uproot.open(\"data_Skim_GamGam.root\")[\"mini\"]\n",
    "\n",
    "eventsData.show()\n",
    "df = eventsData.pandas.df([\"photon_pt\", \"photon_eta\", \"photon_phi\", \"photon_E\",  \"diphoton_mass\"])\n"
   ]
  },
  {
   "cell_type": "code",
   "execution_count": 92,
   "metadata": {},
   "outputs": [
    {
     "name": "stdout",
     "output_type": "stream",
     "text": [
      "74415\n",
      "CPU times: user 57.9 ms, sys: 13.3 ms, total: 71.2 ms\n",
      "Wall time: 70.3 ms\n"
     ]
    },
    {
     "data": {
      "text/html": [
       "<div>\n",
       "<style scoped>\n",
       "    .dataframe tbody tr th:only-of-type {\n",
       "        vertical-align: middle;\n",
       "    }\n",
       "\n",
       "    .dataframe tbody tr th {\n",
       "        vertical-align: top;\n",
       "    }\n",
       "\n",
       "    .dataframe thead th {\n",
       "        text-align: right;\n",
       "    }\n",
       "</style>\n",
       "<table border=\"1\" class=\"dataframe\">\n",
       "  <thead>\n",
       "    <tr style=\"text-align: right;\">\n",
       "      <th></th>\n",
       "      <th>photon_pt[0]</th>\n",
       "      <th>photon_pt[1]</th>\n",
       "      <th>photon_eta[0]</th>\n",
       "      <th>photon_eta[1]</th>\n",
       "      <th>photon_phi[0]</th>\n",
       "      <th>photon_phi[1]</th>\n",
       "      <th>photon_E[0]</th>\n",
       "      <th>photon_E[1]</th>\n",
       "      <th>diphoton_mass</th>\n",
       "    </tr>\n",
       "    <tr>\n",
       "      <th>entry</th>\n",
       "      <th></th>\n",
       "      <th></th>\n",
       "      <th></th>\n",
       "      <th></th>\n",
       "      <th></th>\n",
       "      <th></th>\n",
       "      <th></th>\n",
       "      <th></th>\n",
       "      <th></th>\n",
       "    </tr>\n",
       "  </thead>\n",
       "  <tbody>\n",
       "    <tr>\n",
       "      <td>0</td>\n",
       "      <td>176121.156250</td>\n",
       "      <td>39629.144531</td>\n",
       "      <td>-0.833492</td>\n",
       "      <td>0.094703</td>\n",
       "      <td>-0.294239</td>\n",
       "      <td>0.567294</td>\n",
       "      <td>240922.312500</td>\n",
       "      <td>39806.988281</td>\n",
       "      <td>106420.710938</td>\n",
       "    </tr>\n",
       "    <tr>\n",
       "      <td>4</td>\n",
       "      <td>59702.843750</td>\n",
       "      <td>36279.230469</td>\n",
       "      <td>-0.496725</td>\n",
       "      <td>0.944734</td>\n",
       "      <td>-1.249765</td>\n",
       "      <td>1.442561</td>\n",
       "      <td>67220.937500</td>\n",
       "      <td>53709.812500</td>\n",
       "      <td>116489.304688</td>\n",
       "    </tr>\n",
       "    <tr>\n",
       "      <td>7</td>\n",
       "      <td>59590.574219</td>\n",
       "      <td>48349.218750</td>\n",
       "      <td>0.677454</td>\n",
       "      <td>1.657661</td>\n",
       "      <td>1.073675</td>\n",
       "      <td>-1.483528</td>\n",
       "      <td>73796.007812</td>\n",
       "      <td>131452.093750</td>\n",
       "      <td>116470.882812</td>\n",
       "    </tr>\n",
       "    <tr>\n",
       "      <td>9</td>\n",
       "      <td>73188.804688</td>\n",
       "      <td>62626.109375</td>\n",
       "      <td>-0.012039</td>\n",
       "      <td>-0.931096</td>\n",
       "      <td>0.486101</td>\n",
       "      <td>-2.276066</td>\n",
       "      <td>73194.109375</td>\n",
       "      <td>91791.382812</td>\n",
       "      <td>147763.281250</td>\n",
       "    </tr>\n",
       "    <tr>\n",
       "      <td>10</td>\n",
       "      <td>60071.027344</td>\n",
       "      <td>40881.761719</td>\n",
       "      <td>-2.054557</td>\n",
       "      <td>-0.305891</td>\n",
       "      <td>3.055348</td>\n",
       "      <td>1.028946</td>\n",
       "      <td>238227.640625</td>\n",
       "      <td>42809.355469</td>\n",
       "      <td>129235.617188</td>\n",
       "    </tr>\n",
       "    <tr>\n",
       "      <td>...</td>\n",
       "      <td>...</td>\n",
       "      <td>...</td>\n",
       "      <td>...</td>\n",
       "      <td>...</td>\n",
       "      <td>...</td>\n",
       "      <td>...</td>\n",
       "      <td>...</td>\n",
       "      <td>...</td>\n",
       "      <td>...</td>\n",
       "    </tr>\n",
       "    <tr>\n",
       "      <td>278883</td>\n",
       "      <td>97026.398438</td>\n",
       "      <td>36786.125000</td>\n",
       "      <td>-0.926381</td>\n",
       "      <td>-0.575954</td>\n",
       "      <td>-0.686652</td>\n",
       "      <td>2.690899</td>\n",
       "      <td>141723.406250</td>\n",
       "      <td>43058.070312</td>\n",
       "      <td>120506.843750</td>\n",
       "    </tr>\n",
       "    <tr>\n",
       "      <td>278884</td>\n",
       "      <td>61294.273438</td>\n",
       "      <td>35927.746094</td>\n",
       "      <td>0.444575</td>\n",
       "      <td>-1.290260</td>\n",
       "      <td>-2.913397</td>\n",
       "      <td>0.771639</td>\n",
       "      <td>67452.015625</td>\n",
       "      <td>70219.507812</td>\n",
       "      <td>128996.859375</td>\n",
       "    </tr>\n",
       "    <tr>\n",
       "      <td>278888</td>\n",
       "      <td>56698.496094</td>\n",
       "      <td>54673.269531</td>\n",
       "      <td>0.968195</td>\n",
       "      <td>-0.731186</td>\n",
       "      <td>-0.846178</td>\n",
       "      <td>2.167801</td>\n",
       "      <td>85415.046875</td>\n",
       "      <td>69951.195312</td>\n",
       "      <td>153864.140625</td>\n",
       "    </tr>\n",
       "    <tr>\n",
       "      <td>278896</td>\n",
       "      <td>57474.222656</td>\n",
       "      <td>55986.339844</td>\n",
       "      <td>0.208165</td>\n",
       "      <td>0.189044</td>\n",
       "      <td>0.076922</td>\n",
       "      <td>-3.027287</td>\n",
       "      <td>58723.980469</td>\n",
       "      <td>56989.730469</td>\n",
       "      <td>113436.171875</td>\n",
       "    </tr>\n",
       "    <tr>\n",
       "      <td>278900</td>\n",
       "      <td>77078.117188</td>\n",
       "      <td>46948.613281</td>\n",
       "      <td>0.846383</td>\n",
       "      <td>1.134208</td>\n",
       "      <td>-1.699459</td>\n",
       "      <td>0.526832</td>\n",
       "      <td>106374.109375</td>\n",
       "      <td>80525.937500</td>\n",
       "      <td>109320.015625</td>\n",
       "    </tr>\n",
       "  </tbody>\n",
       "</table>\n",
       "<p>74415 rows × 9 columns</p>\n",
       "</div>"
      ],
      "text/plain": [
       "         photon_pt[0]  photon_pt[1]  photon_eta[0]  photon_eta[1]  \\\n",
       "entry                                                               \n",
       "0       176121.156250  39629.144531      -0.833492       0.094703   \n",
       "4        59702.843750  36279.230469      -0.496725       0.944734   \n",
       "7        59590.574219  48349.218750       0.677454       1.657661   \n",
       "9        73188.804688  62626.109375      -0.012039      -0.931096   \n",
       "10       60071.027344  40881.761719      -2.054557      -0.305891   \n",
       "...               ...           ...            ...            ...   \n",
       "278883   97026.398438  36786.125000      -0.926381      -0.575954   \n",
       "278884   61294.273438  35927.746094       0.444575      -1.290260   \n",
       "278888   56698.496094  54673.269531       0.968195      -0.731186   \n",
       "278896   57474.222656  55986.339844       0.208165       0.189044   \n",
       "278900   77078.117188  46948.613281       0.846383       1.134208   \n",
       "\n",
       "        photon_phi[0]  photon_phi[1]    photon_E[0]    photon_E[1]  \\\n",
       "entry                                                                \n",
       "0           -0.294239       0.567294  240922.312500   39806.988281   \n",
       "4           -1.249765       1.442561   67220.937500   53709.812500   \n",
       "7            1.073675      -1.483528   73796.007812  131452.093750   \n",
       "9            0.486101      -2.276066   73194.109375   91791.382812   \n",
       "10           3.055348       1.028946  238227.640625   42809.355469   \n",
       "...               ...            ...            ...            ...   \n",
       "278883      -0.686652       2.690899  141723.406250   43058.070312   \n",
       "278884      -2.913397       0.771639   67452.015625   70219.507812   \n",
       "278888      -0.846178       2.167801   85415.046875   69951.195312   \n",
       "278896       0.076922      -3.027287   58723.980469   56989.730469   \n",
       "278900      -1.699459       0.526832  106374.109375   80525.937500   \n",
       "\n",
       "        diphoton_mass  \n",
       "entry                  \n",
       "0       106420.710938  \n",
       "4       116489.304688  \n",
       "7       116470.882812  \n",
       "9       147763.281250  \n",
       "10      129235.617188  \n",
       "...               ...  \n",
       "278883  120506.843750  \n",
       "278884  128996.859375  \n",
       "278888  153864.140625  \n",
       "278896  113436.171875  \n",
       "278900  109320.015625  \n",
       "\n",
       "[74415 rows x 9 columns]"
      ]
     },
     "execution_count": 92,
     "metadata": {},
     "output_type": "execute_result"
    }
   ],
   "source": [
    "%%time\n",
    "#this cell can take about 8-10 seconds to run\n",
    "\n",
    "cuts0 = df[(df[\"photon_pt[0]\"] > 35000)  & (df[\"photon_pt[1]\"] > 25000 )]\n",
    "\n",
    "cuts1 = cuts0[( np.abs(cuts0[\"photon_eta[0]\"]) < 2.37)  & ( np.abs(cuts0[\"photon_eta[1]\"]) < 2.37 )]\n",
    "\n",
    "cuts1a = cuts1[ (np.abs(cuts1[\"photon_eta[0]\"]) < 1.37) | (np.abs(cuts1[\"photon_eta[0]\"]) > 1.52) ]\n",
    "\n",
    "cuts1b = cuts1a[ (np.abs(cuts1a[\"photon_eta[1]\"]) < 1.37) | (np.abs(cuts1a[\"photon_eta[1]\"]) > 1.52) ]\n",
    "\n",
    "cuts2a = cuts1b[(cuts1b[\"photon_pt[0]\"] / cuts1b[\"diphoton_mass\"])  > 0.35]\n",
    "\n",
    "cuts2b = cuts2a[(cuts2a[\"photon_pt[1]\"] / cuts2a[\"diphoton_mass\"])  > 0.25]\n",
    "\n",
    "cuts3 = cuts2b[(cuts2b[\"diphoton_mass\"]  > 105000) & (cuts2b[\"diphoton_mass\"]  < 160000) ]\n",
    "\n",
    "\n",
    "#cuts7 = cuts6[np.sqrt(2.0*cuts6.photon_pt[0]*cuts6.photon_pt[1] * ( np.cosh(cuts6.photon_eta[0]-cuts6.photon_eta[1]) - np.cos(cuts6.photon_phi[0]-cuts6.photon_phi[1]))) > 105000]\n",
    "\n",
    "#cuts8 = cuts7[np.sqrt(2.0*cuts7.photon_pt[0]*cuts7.photon_pt[1] * ( np.cosh(cuts7.photon_eta[0]-cuts7.photon_eta[1]) - np.cos(cuts7.photon_phi[0]-cuts7.photon_phi[1]))) < 160000]\n",
    "\n",
    "finalData =  cuts3\n",
    "\n",
    "print(len(finalData.index))\n",
    "\n",
    "finalData"
   ]
  },
  {
   "cell_type": "code",
   "execution_count": 93,
   "metadata": {},
   "outputs": [
    {
     "name": "stdout",
     "output_type": "stream",
     "text": [
      "CPU times: user 9.56 ms, sys: 21.7 ms, total: 31.2 ms\n",
      "Wall time: 53.9 ms\n"
     ]
    }
   ],
   "source": [
    "%%time\n",
    "flatData0 = LVepm.TLorentzVectorArray.from_ptetaphi(finalData[\"photon_pt[0]\"], finalData[\"photon_eta[0]\"], finalData[\"photon_phi[0]\"],finalData[\"photon_E[0]\"])\n",
    "flatData1 = LVepm.TLorentzVectorArray.from_ptetaphi(finalData[\"photon_pt[1]\"], finalData[\"photon_eta[1]\"], finalData[\"photon_phi[1]\"],finalData[\"photon_E[1]\"])\n",
    "\n",
    "flatData = flatData0 + flatData1"
   ]
  },
  {
   "cell_type": "code",
   "execution_count": 95,
   "metadata": {},
   "outputs": [
    {
     "name": "stdout",
     "output_type": "stream",
     "text": [
      "CPU times: user 29.5 ms, sys: 5.39 ms, total: 34.9 ms\n",
      "Wall time: 36.8 ms\n"
     ]
    },
    {
     "data": {
      "text/plain": [
       "<matplotlib.legend.Legend at 0x182c93450>"
      ]
     },
     "execution_count": 95,
     "metadata": {},
     "output_type": "execute_result"
    },
    {
     "data": {
      "image/png": "[encoded data removed]",
      "text/plain": [
       "<Figure size 432x288 with 1 Axes>"
      ]
     },
     "metadata": {
      "needs_background": "light"
     },
     "output_type": "display_data"
    }
   ],
   "source": [
    "%%time\n",
    "nBins = 30\n",
    "minMass = 105000\n",
    "maxMass = 160000\n",
    "\n",
    "plt.figure()\n",
    "plt.xlabel(\"m phph\")\n",
    "plt.ylabel(\"events per bin\")\n",
    "countsData, edges = np.histogram(flatData.mass, bins=nBins, range=(minMass,maxMass))\n",
    "centres = (edges[1:] + edges[:-1]) / 2\n",
    "\n",
    "# get the width of each bin\n",
    "bin_width = edges[1] - edges[0]\n",
    "\n",
    "# sum over number in each bin and mult by bin width, which can be factored out\n",
    "integral = bin_width * sum(countsData[0:nBins])\n",
    "\n",
    "b = np.poly1d(np.polyfit(centres, countsData, 3))\n",
    "\n",
    "#guess a signal integral for illustration\n",
    "integral = 450000.0\n",
    "s = ( scipy.stats.norm.pdf(centres, 125000.0, 2000.0) * integral)\n",
    "\n",
    "sb = s+b(centres)\n",
    "plt.plot(centres, s, 'b', linewidth=1, label=\"Potential Signal\")\n",
    "plt.plot(centres, b(centres), 'k', linewidth=1, linestyle=\"--\", label=\"Background\")\n",
    "plt.plot(centres, sb, 'r', linewidth=2, label=\"Signal+Background\")\n",
    "\n",
    "plt.errorbar(centres, countsData, yerr=np.sqrt(countsData), fmt='o', mfc='k', mec='k',ms=4, mew=0.2, ecolor='k',label=\"ATLAS Open Data\",)\n",
    "plt.legend()\n"
   ]
  },
  {
   "cell_type": "code",
   "execution_count": 96,
   "metadata": {},
   "outputs": [
    {
     "data": {
      "image/png": "[encoded data removed]",
      "text/plain": [
       "<Figure size 432x288 with 1 Axes>"
      ]
     },
     "metadata": {
      "needs_background": "light"
     },
     "output_type": "display_data"
    },
    {
     "name": "stdout",
     "output_type": "stream",
     "text": [
      "CPU times: user 251 ms, sys: 29.4 ms, total: 281 ms\n",
      "Wall time: 285 ms\n"
     ]
    }
   ],
   "source": [
    "%%time\n",
    "#ratio plot \n",
    "residuals = countsData - b(centres) \n",
    "plt.figure()\n",
    "plt.xlabel(\"m phph\")\n",
    "plt.ylabel(\"Data - prediction\")\n",
    "plt.errorbar(centres, residuals, yerr=np.sqrt(countsData), label=\"Data - Background\", fmt='o', mfc='k', mec='k', mew=0.2, ecolor='k')\n",
    "\n",
    "#guess a signal integral for illustration\n",
    "integral = 450000.0\n",
    "\n",
    "plt.plot(centres, s, 'b', linewidth=1, label=\"Signal\")\n",
    "plt.plot(centres, np.zeros(len(centres)), 'k', linewidth=1, linestyle=\"--\", label=\"Background\")\n",
    "plt.legend()\n",
    "\n",
    "plt.show()"
   ]
  }
 ],
 "metadata": {
  "kernelspec": {
   "display_name": "Python 3",
   "language": "python",
   "name": "python3"
  },
  "language_info": {
   "codemirror_mode": {
    "name": "ipython",
    "version": 3
   },
   "file_extension": ".py",
   "mimetype": "text/x-python",
   "name": "python",
   "nbconvert_exporter": "python",
   "pygments_lexer": "ipython3",
   "version": "3.7.4"
  }
 },
 "nbformat": 4,
 "nbformat_minor": 2
}
